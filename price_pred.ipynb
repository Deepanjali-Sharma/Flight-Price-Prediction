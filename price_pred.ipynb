{
 "cells": [
  {
   "cell_type": "code",
   "execution_count": 1,
   "metadata": {},
   "outputs": [
    {
     "name": "stderr",
     "output_type": "stream",
     "text": [
      "/home/codespace/.python/current/lib/python3.12/site-packages/tqdm/auto.py:21: TqdmWarning: IProgress not found. Please update jupyter and ipywidgets. See https://ipywidgets.readthedocs.io/en/stable/user_install.html\n",
      "  from .autonotebook import tqdm as notebook_tqdm\n"
     ]
    }
   ],
   "source": [
    "import pandas as pd\n",
    "import numpy as np\n",
    "from sklearn.model_selection import train_test_split\n",
    "from sklearn.ensemble import RandomForestRegressor\n",
    "from sklearn.metrics import mean_squared_error\n",
    "import optuna\n",
    "import mlflow\n",
    "import mlflow.sklearn"
   ]
  },
  {
   "cell_type": "code",
   "execution_count": 2,
   "metadata": {},
   "outputs": [
    {
     "name": "stderr",
     "output_type": "stream",
     "text": [
      "2024/08/21 17:42:42 INFO mlflow.tracking.fluent: Experiment with name 'Flight_Price_Prediction' does not exist. Creating a new experiment.\n"
     ]
    },
    {
     "data": {
      "text/plain": [
       "<Experiment: artifact_location='mlflow-artifacts:/1', creation_time=1724262162805, experiment_id='1', last_update_time=1724262162805, lifecycle_stage='active', name='Flight_Price_Prediction', tags={}>"
      ]
     },
     "execution_count": 2,
     "metadata": {},
     "output_type": "execute_result"
    }
   ],
   "source": [
    "mlflow.set_tracking_uri(\"http://127.0.0.1:5000\")\n",
    "mlflow.set_experiment(\"Flight_Price_Prediction\")"
   ]
  },
  {
   "cell_type": "code",
   "execution_count": 3,
   "metadata": {},
   "outputs": [
    {
     "name": "stderr",
     "output_type": "stream",
     "text": [
      "2024/08/21 17:42:50 INFO mlflow.tracking.fluent: Experiment with name 'Flight Price Prediction - Random Forest Optuna Optimization' does not exist. Creating a new experiment.\n",
      "[I 2024-08-21 17:42:51,297] A new study created in memory with name: no-name-3317ccec-aed9-4d1a-ac4f-25abebb2094f\n",
      "2024/08/21 17:43:32 WARNING mlflow.models.model: Input example should be provided to infer model signature if the model signature is not provided when logging the model.\n",
      "2024/08/21 17:43:32 INFO mlflow.tracking._tracking_service.client: 🏃 View run upbeat-sow-512 at: http://127.0.0.1:5000/#/experiments/2/runs/2bf8fbd567e14e05b0bea9d810a51cbb.\n",
      "2024/08/21 17:43:32 INFO mlflow.tracking._tracking_service.client: 🧪 View experiment at: http://127.0.0.1:5000/#/experiments/2.\n",
      "[I 2024-08-21 17:43:32,720] Trial 0 finished with value: 3656.7627447861805 and parameters: {'n_estimators': 194, 'max_depth': 14, 'min_samples_split': 15, 'min_samples_leaf': 4, 'max_features': None}. Best is trial 0 with value: 3656.7627447861805.\n",
      "2024/08/21 17:45:34 WARNING mlflow.models.model: Input example should be provided to infer model signature if the model signature is not provided when logging the model.\n",
      "2024/08/21 17:45:34 INFO mlflow.tracking._tracking_service.client: 🏃 View run nebulous-dolphin-371 at: http://127.0.0.1:5000/#/experiments/2/runs/7ba157d21879464c898a3c9ed80ed5fd.\n",
      "2024/08/21 17:45:34 INFO mlflow.tracking._tracking_service.client: 🧪 View experiment at: http://127.0.0.1:5000/#/experiments/2.\n",
      "[I 2024-08-21 17:45:34,923] Trial 1 finished with value: 2667.7532784988825 and parameters: {'n_estimators': 423, 'max_depth': 34, 'min_samples_split': 12, 'min_samples_leaf': 1, 'max_features': None}. Best is trial 1 with value: 2667.7532784988825.\n",
      "2024/08/21 17:46:00 WARNING mlflow.models.model: Input example should be provided to infer model signature if the model signature is not provided when logging the model.\n",
      "2024/08/21 17:46:00 INFO mlflow.tracking._tracking_service.client: 🏃 View run stately-lark-616 at: http://127.0.0.1:5000/#/experiments/2/runs/043509f958544efd903c184c2bcd1818.\n",
      "2024/08/21 17:46:00 INFO mlflow.tracking._tracking_service.client: 🧪 View experiment at: http://127.0.0.1:5000/#/experiments/2.\n",
      "[I 2024-08-21 17:46:00,648] Trial 2 finished with value: 3019.5940383294383 and parameters: {'n_estimators': 290, 'max_depth': 47, 'min_samples_split': 10, 'min_samples_leaf': 5, 'max_features': 'sqrt'}. Best is trial 1 with value: 2667.7532784988825.\n",
      "2024/08/21 17:47:01 WARNING mlflow.models.model: Input example should be provided to infer model signature if the model signature is not provided when logging the model.\n",
      "2024/08/21 17:47:02 INFO mlflow.tracking._tracking_service.client: 🏃 View run receptive-gnu-739 at: http://127.0.0.1:5000/#/experiments/2/runs/18b96baf6fbd4c4482c320c9f7259618.\n",
      "2024/08/21 17:47:02 INFO mlflow.tracking._tracking_service.client: 🧪 View experiment at: http://127.0.0.1:5000/#/experiments/2.\n",
      "[I 2024-08-21 17:47:02,054] Trial 3 finished with value: 2806.6622060826257 and parameters: {'n_estimators': 231, 'max_depth': 33, 'min_samples_split': 6, 'min_samples_leaf': 10, 'max_features': None}. Best is trial 1 with value: 2667.7532784988825.\n",
      "2024/08/21 17:47:16 WARNING mlflow.models.model: Input example should be provided to infer model signature if the model signature is not provided when logging the model.\n",
      "2024/08/21 17:47:16 INFO mlflow.tracking._tracking_service.client: 🏃 View run persistent-whale-747 at: http://127.0.0.1:5000/#/experiments/2/runs/23ae0fdb6c9848438c5e175f9190a6e7.\n",
      "2024/08/21 17:47:16 INFO mlflow.tracking._tracking_service.client: 🧪 View experiment at: http://127.0.0.1:5000/#/experiments/2.\n",
      "[I 2024-08-21 17:47:16,825] Trial 4 finished with value: 3310.8860671199895 and parameters: {'n_estimators': 184, 'max_depth': 39, 'min_samples_split': 10, 'min_samples_leaf': 10, 'max_features': 'log2'}. Best is trial 1 with value: 2667.7532784988825.\n",
      "2024/08/21 17:47:29 WARNING mlflow.models.model: Input example should be provided to infer model signature if the model signature is not provided when logging the model.\n",
      "2024/08/21 17:47:29 INFO mlflow.tracking._tracking_service.client: 🏃 View run dazzling-swan-633 at: http://127.0.0.1:5000/#/experiments/2/runs/58d6381fd7934e1fb8c94eafd8c954c3.\n",
      "2024/08/21 17:47:29 INFO mlflow.tracking._tracking_service.client: 🧪 View experiment at: http://127.0.0.1:5000/#/experiments/2.\n",
      "[I 2024-08-21 17:47:29,604] Trial 5 finished with value: 2975.099822430498 and parameters: {'n_estimators': 140, 'max_depth': 27, 'min_samples_split': 14, 'min_samples_leaf': 3, 'max_features': 'sqrt'}. Best is trial 1 with value: 2667.7532784988825.\n",
      "2024/08/21 17:48:29 WARNING mlflow.models.model: Input example should be provided to infer model signature if the model signature is not provided when logging the model.\n",
      "2024/08/21 17:48:29 INFO mlflow.tracking._tracking_service.client: 🏃 View run gentle-koi-671 at: http://127.0.0.1:5000/#/experiments/2/runs/b087bcfa38ef4059b0cc6fa103908884.\n",
      "2024/08/21 17:48:29 INFO mlflow.tracking._tracking_service.client: 🧪 View experiment at: http://127.0.0.1:5000/#/experiments/2.\n",
      "[I 2024-08-21 17:48:29,895] Trial 6 finished with value: 2859.1062606494734 and parameters: {'n_estimators': 308, 'max_depth': 28, 'min_samples_split': 2, 'min_samples_leaf': 1, 'max_features': 'log2'}. Best is trial 1 with value: 2667.7532784988825.\n",
      "2024/08/21 17:49:31 WARNING mlflow.models.model: Input example should be provided to infer model signature if the model signature is not provided when logging the model.\n",
      "2024/08/21 17:49:31 INFO mlflow.tracking._tracking_service.client: 🏃 View run selective-doe-588 at: http://127.0.0.1:5000/#/experiments/2/runs/76e1c53f9cc14d039a3383d3cfa3ecab.\n",
      "2024/08/21 17:49:31 INFO mlflow.tracking._tracking_service.client: 🧪 View experiment at: http://127.0.0.1:5000/#/experiments/2.\n",
      "[I 2024-08-21 17:49:31,639] Trial 7 finished with value: 2821.2734706825595 and parameters: {'n_estimators': 456, 'max_depth': 46, 'min_samples_split': 4, 'min_samples_leaf': 2, 'max_features': 'sqrt'}. Best is trial 1 with value: 2667.7532784988825.\n",
      "2024/08/21 17:50:01 WARNING mlflow.models.model: Input example should be provided to infer model signature if the model signature is not provided when logging the model.\n",
      "2024/08/21 17:50:01 INFO mlflow.tracking._tracking_service.client: 🏃 View run efficient-bug-920 at: http://127.0.0.1:5000/#/experiments/2/runs/ba213e34201f47a5a9d4a936275ed132.\n",
      "2024/08/21 17:50:01 INFO mlflow.tracking._tracking_service.client: 🧪 View experiment at: http://127.0.0.1:5000/#/experiments/2.\n",
      "[I 2024-08-21 17:50:01,329] Trial 8 finished with value: 3481.5405893645125 and parameters: {'n_estimators': 365, 'max_depth': 18, 'min_samples_split': 4, 'min_samples_leaf': 2, 'max_features': 'sqrt'}. Best is trial 1 with value: 2667.7532784988825.\n",
      "2024/08/21 17:51:16 WARNING mlflow.models.model: Input example should be provided to infer model signature if the model signature is not provided when logging the model.\n",
      "2024/08/21 17:51:16 INFO mlflow.tracking._tracking_service.client: 🏃 View run sneaky-duck-536 at: http://127.0.0.1:5000/#/experiments/2/runs/cb1af1399ba5494981cae0196782ea48.\n",
      "2024/08/21 17:51:16 INFO mlflow.tracking._tracking_service.client: 🧪 View experiment at: http://127.0.0.1:5000/#/experiments/2.\n",
      "[I 2024-08-21 17:51:17,012] Trial 9 finished with value: 2921.8747802127946 and parameters: {'n_estimators': 295, 'max_depth': 19, 'min_samples_split': 13, 'min_samples_leaf': 5, 'max_features': None}. Best is trial 1 with value: 2667.7532784988825.\n"
     ]
    },
    {
     "name": "stdout",
     "output_type": "stream",
     "text": [
      "Best hyperparameters:  {'n_estimators': 423, 'max_depth': 34, 'min_samples_split': 12, 'min_samples_leaf': 1, 'max_features': None}\n",
      "Best MSE:  2667.7532784988825\n"
     ]
    },
    {
     "name": "stderr",
     "output_type": "stream",
     "text": [
      "2024/08/21 17:53:19 WARNING mlflow.models.model: Input example should be provided to infer model signature if the model signature is not provided when logging the model.\n"
     ]
    },
    {
     "data": {
      "text/plain": [
       "<mlflow.models.model.ModelInfo at 0x76f8be52f710>"
      ]
     },
     "execution_count": 3,
     "metadata": {},
     "output_type": "execute_result"
    }
   ],
   "source": [
    "\n",
    "\n",
    "# Set up MLflow tracking\n",
    "mlflow.set_experiment(\"Flight Price Prediction - Random Forest Optuna Optimization\")\n",
    "\n",
    "# Load and preprocess the data\n",
    "df = pd.read_csv(\"clean_dataset.csv\")\n",
    "df = df.drop('Unnamed: 0', axis=1)\n",
    "df = df.drop('flight', axis=1)\n",
    "\n",
    "# Convert categorical columns\n",
    "df['class'] = df['class'].apply(lambda x: 1 if x == 'Business' else 0)\n",
    "df['class'].value_counts()\n",
    "df.stops = pd.factorize(df.stops)[0]\n",
    "df = df.join(pd.get_dummies(df.airline, prefix='airline')).drop('airline', axis=1)\n",
    "df = df.join(pd.get_dummies(df.source_city, prefix='source')).drop('source_city', axis=1)\n",
    "df = df.join(pd.get_dummies(df.destination_city, prefix='dest')).drop('destination_city', axis=1)\n",
    "df = df.join(pd.get_dummies(df.arrival_time, prefix='arrival')).drop('arrival_time', axis=1)\n",
    "df = df.join(pd.get_dummies(df.departure_time, prefix='departure')).drop('departure_time', axis=1)\n",
    "\n",
    "# Prepare the data for training\n",
    "X, y = df.drop('price', axis=1), df['price']\n",
    "X_train, X_test, y_train, y_test = train_test_split(X, y, test_size=0.2, random_state=42)\n",
    "\n",
    "# Define the Optuna objective function\n",
    "def objective(trial):\n",
    "    with mlflow.start_run():\n",
    "        # Hyperparameter search space\n",
    "        n_estimators = trial.suggest_int('n_estimators', 100, 500)\n",
    "        max_depth = trial.suggest_int('max_depth', 10, 50)\n",
    "        min_samples_split = trial.suggest_int('min_samples_split', 2, 20)\n",
    "        min_samples_leaf = trial.suggest_int('min_samples_leaf', 1, 10)\n",
    "        max_features = trial.suggest_categorical('max_features', ['sqrt', 'log2', None])\n",
    "\n",
    "        # Create RandomForest model with trial parameters\n",
    "        reg = RandomForestRegressor(\n",
    "            n_estimators=n_estimators,\n",
    "            max_depth=max_depth,\n",
    "            min_samples_split=min_samples_split,\n",
    "            min_samples_leaf=min_samples_leaf,\n",
    "            max_features=max_features,\n",
    "            random_state=42,\n",
    "            n_jobs=-1\n",
    "        )\n",
    "\n",
    "        # Train the model\n",
    "        reg.fit(X_train, y_train)\n",
    "\n",
    "        # Predict and calculate the mean squared error\n",
    "        y_pred = reg.predict(X_test)\n",
    "        mse = mean_squared_error(y_test, y_pred)\n",
    "        error = np.sqrt(mse)\n",
    "\n",
    "        # Log the parameters and metrics in MLflow\n",
    "        mlflow.log_params({\n",
    "            \"n_estimators\": n_estimators,\n",
    "            \"max_depth\": max_depth,\n",
    "            \"min_samples_split\": min_samples_split,\n",
    "            \"min_samples_leaf\": min_samples_leaf,\n",
    "            \"max_features\": max_features\n",
    "        })\n",
    "        mlflow.log_metric(\"rmse\", error)\n",
    "        \n",
    "        # Autolog the model (automatically tracks model artifacts, hyperparameters, etc.)\n",
    "        mlflow.sklearn.log_model(reg, \"random_forest_model\")\n",
    "\n",
    "        return error\n",
    "\n",
    "# Create the Optuna study and run the optimization\n",
    "study = optuna.create_study(direction='minimize')\n",
    "study.optimize(objective, n_trials=10)  # Try 10 trials to optimize\n",
    "\n",
    "# Print the best hyperparameters\n",
    "print(\"Best hyperparameters: \", study.best_params)\n",
    "print(\"Best MSE: \", study.best_value)\n",
    "\n",
    "# Train the final model using the best hyperparameters\n",
    "best_params = study.best_params\n",
    "best_model = RandomForestRegressor(\n",
    "    n_estimators=best_params['n_estimators'],\n",
    "    max_depth=best_params['max_depth'],\n",
    "    min_samples_split=best_params['min_samples_split'],\n",
    "    min_samples_leaf=best_params['min_samples_leaf'],\n",
    "    max_features=best_params['max_features'],\n",
    "    random_state=42,\n",
    "    n_jobs=-1\n",
    ")\n",
    "best_model.fit(X_train, y_train)\n",
    "\n",
    "# Log the final model in MLflow\n",
    "mlflow.sklearn.log_model(best_model, \"best_random_forest_model\")\n"
   ]
  },
  {
   "cell_type": "code",
   "execution_count": 5,
   "metadata": {},
   "outputs": [],
   "source": [
    "import mlflow\n",
    "\n",
    "import pandas as pd\n",
    "from pandas.tseries.holiday import USFederalHolidayCalendar as calendar\n",
    "\n",
    "import xgboost as xgb\n",
    "\n",
    "from sklearn.model_selection import train_test_split\n",
    "from sklearn.metrics import mean_squared_error, mean_absolute_error, r2_score\n",
    "from sklearn.linear_model import LinearRegression , Lasso\n",
    "from sklearn.ensemble import RandomForestRegressor, GradientBoostingRegressor\n",
    "\n",
    "from hyperopt import fmin, tpe, hp, STATUS_OK, Trials\n",
    "from hyperopt.pyll import scope"
   ]
  },
  {
   "cell_type": "code",
   "execution_count": 6,
   "metadata": {},
   "outputs": [],
   "source": [
    "X_train, X_val, y_train, y_val = train_test_split(X, y, test_size=0.2, random_state=42)"
   ]
  },
  {
   "cell_type": "code",
   "execution_count": 7,
   "metadata": {},
   "outputs": [],
   "source": [
    "train = xgb.DMatrix(X_train, label=y_train)\n",
    "valid = xgb.DMatrix(X_val, label=y_val)"
   ]
  },
  {
   "cell_type": "code",
   "execution_count": 8,
   "metadata": {},
   "outputs": [],
   "source": [
    "def objective(params):\n",
    "    \"\"\"\n",
    "    Trains an XGBoost model with specified parameters and logs metrics using MLflow.\n",
    "\n",
    "    :param params: Dictionary of hyperparameters for the XGBoost model.\n",
    "    :return: Dictionary containing the loss ('rmse') and the status of the optimization.\n",
    "    \"\"\"\n",
    "    with mlflow.start_run():\n",
    "        mlflow.set_tag(\"model\", \"xgboost\")\n",
    "        mlflow.log_params(params)\n",
    "        mlflow.xgboost.autolog()\n",
    "        booster = xgb.train(\n",
    "            params=params,\n",
    "            dtrain=train,\n",
    "            num_boost_round=1000,\n",
    "            evals=[(valid, 'validation')],\n",
    "            early_stopping_rounds=50\n",
    "        )\n",
    "        y_pred = booster.predict(valid)\n",
    "        rmse = mean_squared_error(y_val, y_pred, squared=False)\n",
    "        mlflow.log_metric(\"rmse\", rmse)\n",
    "\n",
    "    return {'loss': rmse, 'status': STATUS_OK}"
   ]
  },
  {
   "cell_type": "code",
   "execution_count": 10,
   "metadata": {},
   "outputs": [
    {
     "name": "stderr",
     "output_type": "stream",
     "text": [
      "2024/08/21 18:00:40 INFO mlflow.tracking._tracking_service.client: 🏃 View run funny-grouse-73 at: http://127.0.0.1:5000/#/experiments/2/runs/dab5cc6376cf45a5bd1b63562c4a909c.\n",
      "2024/08/21 18:00:40 INFO mlflow.tracking._tracking_service.client: 🧪 View experiment at: http://127.0.0.1:5000/#/experiments/2.\n"
     ]
    }
   ],
   "source": [
    "mlflow.end_run()"
   ]
  }
  ]
 
}
